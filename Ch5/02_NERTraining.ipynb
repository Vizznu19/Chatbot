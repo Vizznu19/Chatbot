{
  "cells": [
    {
      "cell_type": "markdown",
      "metadata": {
        "id": "P7pplVJgcnAQ"
      },
      "source": [
        "This notebook illustrates how to train a NER model using the well known CONLL dataset, and sklearn_crfsuite library."
      ]
    },
    {
      "cell_type": "markdown",
      "metadata": {
        "id": "_EImA3uAeUoS"
      },
      "source": [
        "### Importing Necessary Libraries"
      ]
    },
    {
      "cell_type": "code",
      "execution_count": 1,
      "metadata": {
        "colab": {
          "base_uri": "https://localhost:8080/",
          "height": 400
        },
        "id": "260mW70zcnAR",
        "outputId": "460485a3-9360-4395-9b09-619abc00b623"
      },
      "outputs": [
        {
          "output_type": "error",
          "ename": "ModuleNotFoundError",
          "evalue": "No module named 'sklearn_crfsuite'",
          "traceback": [
            "\u001b[0;31m---------------------------------------------------------------------------\u001b[0m",
            "\u001b[0;31mModuleNotFoundError\u001b[0m                       Traceback (most recent call last)",
            "\u001b[0;32m/tmp/ipython-input-4183105615.py\u001b[0m in \u001b[0;36m<cell line: 0>\u001b[0;34m()\u001b[0m\n\u001b[1;32m      1\u001b[0m \u001b[0;31m#Make the necessary imports\u001b[0m\u001b[0;34m\u001b[0m\u001b[0;34m\u001b[0m\u001b[0m\n\u001b[1;32m      2\u001b[0m \u001b[0;32mfrom\u001b[0m \u001b[0mnltk\u001b[0m\u001b[0;34m.\u001b[0m\u001b[0mtag\u001b[0m \u001b[0;32mimport\u001b[0m \u001b[0mpos_tag\u001b[0m\u001b[0;34m\u001b[0m\u001b[0;34m\u001b[0m\u001b[0m\n\u001b[0;32m----> 3\u001b[0;31m \u001b[0;32mfrom\u001b[0m \u001b[0msklearn_crfsuite\u001b[0m \u001b[0;32mimport\u001b[0m \u001b[0mCRF\u001b[0m\u001b[0;34m,\u001b[0m \u001b[0mmetrics\u001b[0m\u001b[0;34m\u001b[0m\u001b[0;34m\u001b[0m\u001b[0m\n\u001b[0m\u001b[1;32m      4\u001b[0m \u001b[0;32mfrom\u001b[0m \u001b[0msklearn\u001b[0m\u001b[0;34m.\u001b[0m\u001b[0mmetrics\u001b[0m \u001b[0;32mimport\u001b[0m \u001b[0mmake_scorer\u001b[0m\u001b[0;34m,\u001b[0m\u001b[0mconfusion_matrix\u001b[0m\u001b[0;34m\u001b[0m\u001b[0;34m\u001b[0m\u001b[0m\n\u001b[1;32m      5\u001b[0m \u001b[0;32mfrom\u001b[0m \u001b[0mpprint\u001b[0m \u001b[0;32mimport\u001b[0m \u001b[0mpprint\u001b[0m\u001b[0;34m\u001b[0m\u001b[0;34m\u001b[0m\u001b[0m\n",
            "\u001b[0;31mModuleNotFoundError\u001b[0m: No module named 'sklearn_crfsuite'",
            "",
            "\u001b[0;31m---------------------------------------------------------------------------\u001b[0;32m\nNOTE: If your import is failing due to a missing package, you can\nmanually install dependencies using either !pip or !apt.\n\nTo view examples of installing some common dependencies, click the\n\"Open Examples\" button below.\n\u001b[0;31m---------------------------------------------------------------------------\u001b[0m\n"
          ],
          "errorDetails": {
            "actions": [
              {
                "action": "open_url",
                "actionText": "Open Examples",
                "url": "/notebooks/snippets/importing_libraries.ipynb"
              }
            ]
          }
        }
      ],
      "source": [
        "#Make the necessary imports\n",
        "from nltk.tag import pos_tag\n",
        "from sklearn_crfsuite import CRF, metrics\n",
        "from sklearn.metrics import make_scorer,confusion_matrix\n",
        "from pprint import pprint\n",
        "from sklearn.metrics import f1_score,classification_report\n",
        "from sklearn.pipeline import Pipeline\n",
        "import string\n",
        "import warnings\n",
        "warnings.filterwarnings('ignore')"
      ]
    },
    {
      "cell_type": "markdown",
      "metadata": {
        "id": "23NhWgM4eT9l"
      },
      "source": [
        "### Loading The Data"
      ]
    },
    {
      "cell_type": "code",
      "execution_count": null,
      "metadata": {
        "id": "3f-Pvr5tcnAg"
      },
      "outputs": [],
      "source": [
        "\"\"\"\n",
        "Load the training/testing data.\n",
        "input: conll format data, but with only 2 tab separated colums - words and NEtags.\n",
        "output: A list where each item is 2 lists.  sentence as a list of tokens, NER tags as a list for each token.\n",
        "\"\"\"\n",
        "def load__data_conll(file_path):\n",
        "    myoutput,words,tags = [],[],[]\n",
        "    fh = open(file_path)\n",
        "    for line in fh:\n",
        "        line = line.strip()\n",
        "        if \"\\t\" not in line:\n",
        "            #Sentence ended.\n",
        "            myoutput.append([words,tags])\n",
        "            words,tags = [],[]\n",
        "        else:\n",
        "            word, tag = line.split(\"\\t\")\n",
        "            words.append(word)\n",
        "            tags.append(tag)\n",
        "    fh.close()\n",
        "    return myoutput"
      ]
    },
    {
      "cell_type": "code",
      "execution_count": null,
      "metadata": {
        "id": "EZNEu753cnAl"
      },
      "outputs": [],
      "source": [
        "\"\"\"\n",
        "Get features for all words in the sentence\n",
        "Features:\n",
        "- word context: a window of 2 words on either side of the current word, and current word.\n",
        "- POS context: a window of 2 POS tags on either side of the current word, and current tag.\n",
        "input: sentence as a list of tokens.\n",
        "output: list of dictionaries. each dict represents features for that word.\n",
        "\"\"\"\n",
        "def sent2feats(sentence):\n",
        "    feats = []\n",
        "    sen_tags = pos_tag(sentence) #This format is specific to this POS tagger!\n",
        "    for i in range(0,len(sentence)):\n",
        "        word = sentence[i]\n",
        "        wordfeats = {}\n",
        "       #word features: word, prev 2 words, next 2 words in the sentence.\n",
        "        wordfeats['word'] = word\n",
        "        if i == 0:\n",
        "            wordfeats[\"prevWord\"] = wordfeats[\"prevSecondWord\"] = \"<S>\"\n",
        "        elif i==1:\n",
        "            wordfeats[\"prevWord\"] = sentence[0]\n",
        "            wordfeats[\"prevSecondWord\"] = \"</S>\"\n",
        "        else:\n",
        "            wordfeats[\"prevWord\"] = sentence[i-1]\n",
        "            wordfeats[\"prevSecondWord\"] = sentence[i-2]\n",
        "        #next two words as features\n",
        "        if i == len(sentence)-2:\n",
        "            wordfeats[\"nextWord\"] = sentence[i+1]\n",
        "            wordfeats[\"nextNextWord\"] = \"</S>\"\n",
        "        elif i==len(sentence)-1:\n",
        "            wordfeats[\"nextWord\"] = \"</S>\"\n",
        "            wordfeats[\"nextNextWord\"] = \"</S>\"\n",
        "        else:\n",
        "            wordfeats[\"nextWord\"] = sentence[i+1]\n",
        "            wordfeats[\"nextNextWord\"] = sentence[i+2]\n",
        "\n",
        "        #POS tag features: current tag, previous and next 2 tags.\n",
        "        wordfeats['tag'] = sen_tags[i][1]\n",
        "        if i == 0:\n",
        "            wordfeats[\"prevTag\"] = wordfeats[\"prevSecondTag\"] = \"<S>\"\n",
        "        elif i == 1:\n",
        "            wordfeats[\"prevTag\"] = sen_tags[0][1]\n",
        "            wordfeats[\"prevSecondTag\"] = \"</S>\"\n",
        "        else:\n",
        "            wordfeats[\"prevTag\"] = sen_tags[i - 1][1]\n",
        "\n",
        "            wordfeats[\"prevSecondTag\"] = sen_tags[i - 2][1]\n",
        "            # next two words as features\n",
        "        if i == len(sentence) - 2:\n",
        "            wordfeats[\"nextTag\"] = sen_tags[i + 1][1]\n",
        "            wordfeats[\"nextNextTag\"] = \"</S>\"\n",
        "        elif i == len(sentence) - 1:\n",
        "            wordfeats[\"nextTag\"] = \"</S>\"\n",
        "            wordfeats[\"nextNextTag\"] = \"</S>\"\n",
        "        else:\n",
        "            wordfeats[\"nextTag\"] = sen_tags[i + 1][1]\n",
        "            wordfeats[\"nextNextTag\"] = sen_tags[i + 2][1]\n",
        "        #That is it! You can add whatever you want!\n",
        "        feats.append(wordfeats)\n",
        "    return feats"
      ]
    },
    {
      "cell_type": "markdown",
      "metadata": {
        "id": "kBNaaDJce102"
      },
      "source": [
        "### Extracting Features"
      ]
    },
    {
      "cell_type": "code",
      "execution_count": null,
      "metadata": {
        "id": "LmB5emVicnA1"
      },
      "outputs": [],
      "source": [
        "#Extract features from the conll data, after loading it.\n",
        "def get_feats_conll(conll_data):\n",
        "    feats = []\n",
        "    labels = []\n",
        "    for sentence in conll_data:\n",
        "        feats.append(sent2feats(sentence[0]))\n",
        "        labels.append(sentence[1])\n",
        "    return feats, labels"
      ]
    },
    {
      "cell_type": "markdown",
      "metadata": {
        "id": "S7TO_UXBe6Lg"
      },
      "source": [
        "### Training a Model"
      ]
    },
    {
      "cell_type": "code",
      "execution_count": null,
      "metadata": {
        "id": "7bo-XzixcnBA"
      },
      "outputs": [],
      "source": [
        "\n",
        "#Train a sequence model\n",
        "def train_seq(X_train,Y_train,X_dev,Y_dev):\n",
        "   # crf = CRF(algorithm='lbfgs', c1=0.1, c2=0.1, max_iterations=50, all_possible_states=True)\n",
        "    crf = CRF(algorithm='lbfgs', c1=0.1, c2=10, max_iterations=50)#, all_possible_states=True)\n",
        "    #Just to fit on training data\n",
        "    crf.fit(X_train, Y_train)\n",
        "    labels = list(crf.classes_)\n",
        "    #testing:\n",
        "    y_pred = crf.predict(X_dev)\n",
        "    sorted_labels = sorted(labels, key=lambda name: (name[1:], name[0]))\n",
        "    print(metrics.flat_f1_score(Y_dev, y_pred,average='weighted', labels=labels))\n",
        "    print(metrics.flat_classification_report(Y_dev, y_pred, labels=sorted_labels, digits=3))\n",
        "    #print(metrics.sequence_accuracy_score(Y_dev, y_pred))\n",
        "    get_confusion_matrix(Y_dev, y_pred,labels=sorted_labels)"
      ]
    },
    {
      "cell_type": "markdown",
      "metadata": {
        "id": "8OyfLwkYe_lz"
      },
      "source": [
        "Confusion Matrix helper function . Source for this function is [here](https://gist.github.com/zachguo/10296432)"
      ]
    },
    {
      "cell_type": "code",
      "execution_count": null,
      "metadata": {
        "id": "khGXUWBScnBL"
      },
      "outputs": [],
      "source": [
        "def print_cm(cm, labels):\n",
        "    print(\"\\n\")\n",
        "    \"\"\"pretty print for confusion matrixes\"\"\"\n",
        "    columnwidth = max([len(x) for x in labels] + [5])  # 5 is value length\n",
        "    empty_cell = \" \" * columnwidth\n",
        "    # Print header\n",
        "    print(\"    \" + empty_cell, end=\" \")\n",
        "    for label in labels:\n",
        "        print(\"%{0}s\".format(columnwidth) % label, end=\" \")\n",
        "    print()\n",
        "    # Print rows\n",
        "    for i, label1 in enumerate(labels):\n",
        "        print(\"    %{0}s\".format(columnwidth) % label1, end=\" \")\n",
        "        sum = 0\n",
        "        for j in range(len(labels)):\n",
        "            cell = \"%{0}.0f\".format(columnwidth) % cm[i, j]\n",
        "            sum =  sum + int(cell)\n",
        "            print(cell, end=\" \")\n",
        "        print(sum) #Prints the total number of instances per cat at the end."
      ]
    },
    {
      "cell_type": "code",
      "execution_count": null,
      "metadata": {
        "id": "5vy2dLg2cnBe"
      },
      "outputs": [],
      "source": [
        "#python-crfsuite does not have a confusion matrix function,\n",
        "#so writing it using sklearn's confusion matrix and print_cm from github\n",
        "def get_confusion_matrix(y_true,y_pred,labels):\n",
        "    trues,preds = [], []\n",
        "    for yseq_true, yseq_pred in zip(y_true, y_pred):\n",
        "        trues.extend(yseq_true)\n",
        "        preds.extend(yseq_pred)\n",
        "    print_cm(confusion_matrix(trues,preds,labels),labels)"
      ]
    },
    {
      "cell_type": "markdown",
      "metadata": {
        "id": "IYAlUXyRfPzf"
      },
      "source": [
        "### Call all our functions inside the main method"
      ]
    },
    {
      "cell_type": "code",
      "execution_count": null,
      "metadata": {
        "id": "GtkLBZF-cnBr",
        "outputId": "4eaf8838-d550-45b4-eba7-39b36b3e9004"
      },
      "outputs": [
        {
          "name": "stdout",
          "output_type": "stream",
          "text": [
            "Training a Sequence classification model with CRF\n",
            "0.9255103670420659\n",
            "              precision    recall  f1-score   support\n",
            "\n",
            "           O      0.973     0.981     0.977     38323\n",
            "       B-LOC      0.694     0.765     0.728      1668\n",
            "       I-LOC      0.738     0.482     0.584       257\n",
            "      B-MISC      0.648     0.309     0.419       702\n",
            "      I-MISC      0.626     0.505     0.559       216\n",
            "       B-ORG      0.670     0.561     0.611      1661\n",
            "       I-ORG      0.551     0.704     0.618       835\n",
            "       B-PER      0.773     0.766     0.769      1617\n",
            "       I-PER      0.819     0.886     0.851      1156\n",
            "\n",
            "    accuracy                          0.928     46435\n",
            "   macro avg      0.721     0.662     0.679     46435\n",
            "weighted avg      0.926     0.928     0.926     46435\n",
            "\n",
            "\n",
            "\n",
            "                O  B-LOC  I-LOC B-MISC I-MISC  B-ORG  I-ORG  B-PER  I-PER \n",
            "         O  37579    118      3     22     32    193    224     88     64 38323\n",
            "     B-LOC    143   1276      1     36      1     95     14     98      4 1668\n",
            "     I-LOC     32      6    124      1      5      0     52      0     37 257\n",
            "    B-MISC    344     48      1    217      2     56     13     19      2 702\n",
            "    I-MISC     58      1      4      4    109      2     29      0      9 216\n",
            "     B-ORG    265    236      0     48      3    932     20    151      6 1661\n",
            "     I-ORG     76     15     18      2     15     21    588      8     92 835\n",
            "     B-PER     86    138      1      5      3     90     44   1238     12 1617\n",
            "     I-PER     26      1     16      0      4      2     83      0   1024 1156\n",
            "Done with sequence model\n"
          ]
        }
      ],
      "source": [
        "def main():\n",
        "\n",
        "    try:\n",
        "        from google.colab import files\n",
        "        uploaded = files.upload()\n",
        "        # files are present in Data/conlldata\n",
        "        train_path = 'train.txt'\n",
        "        test_path = 'test.txt'\n",
        "    except:\n",
        "        train_path = 'Data/conlldata/train.txt'\n",
        "        test_path = 'Data/conlldata/test.txt'\n",
        "\n",
        "    conll_train = load__data_conll(train_path)\n",
        "    conll_dev = load__data_conll(test_path)\n",
        "\n",
        "    print(\"Training a Sequence classification model with CRF\")\n",
        "    feats, labels = get_feats_conll(conll_train)\n",
        "    devfeats, devlabels = get_feats_conll(conll_dev)\n",
        "    train_seq(feats, labels, devfeats, devlabels)\n",
        "    print(\"Done with sequence model\")\n",
        "\n",
        "if __name__==\"__main__\":\n",
        "    main()"
      ]
    },
    {
      "cell_type": "markdown",
      "metadata": {
        "id": "-xwubY50cnB1"
      },
      "source": [
        "This is pretty good. We already have a model which has an F-score of 92%!!!"
      ]
    },
    {
      "cell_type": "code",
      "source": [],
      "metadata": {
        "id": "jO9s3ULfIsCJ"
      },
      "execution_count": null,
      "outputs": []
    },
    {
      "cell_type": "code",
      "source": [],
      "metadata": {
        "id": "fscFtj9GIsaD"
      },
      "execution_count": null,
      "outputs": []
    },
    {
      "cell_type": "code",
      "source": [
        "import numpy as np\n",
        "from tensorflow.keras.datasets import imdb\n",
        "from sklearn.feature_extraction.text import TfidfVectorizer\n",
        "from sklearn.svm import SVC\n",
        "from sklearn.metrics import accuracy_score\n",
        "\n",
        "# ----------------------------\n",
        "# 1️⃣ Load IMDb Dataset\n",
        "# ----------------------------\n",
        "num_words = 10000\n",
        "(x_train, y_train), (x_test, y_test) = imdb.load_data(num_words=num_words)\n",
        "\n",
        "# ----------------------------\n",
        "# 2️⃣ Convert integer sequences to text\n",
        "# ----------------------------\n",
        "word_index = imdb.get_word_index()\n",
        "index_word = {v + 3: k for k, v in word_index.items()}\n",
        "index_word[0] = '<PAD>'\n",
        "index_word[1] = '<START>'\n",
        "index_word[2] = '<UNK>'\n",
        "index_word[3] = '<UNUSED>'\n",
        "\n",
        "def decode_review(encoded_review):\n",
        "    return ' '.join([index_word.get(i, '?') for i in encoded_review])\n",
        "\n",
        "x_train_text = [decode_review(seq) for seq in x_train]\n",
        "x_test_text = [decode_review(seq) for seq in x_test]\n",
        "\n",
        "# ----------------------------\n",
        "# 3️⃣ Vectorize using TF-IDF\n",
        "# ----------------------------\n",
        "vectorizer = TfidfVectorizer(max_features=10000)\n",
        "x_train_tfidf = vectorizer.fit_transform(x_train_text)\n",
        "x_test_tfidf = vectorizer.transform(x_test_text)\n",
        "\n",
        "# ----------------------------\n",
        "# 4️⃣ Train SVM Classifier\n",
        "# ----------------------------\n",
        "print(\"Training SVM classifier...\")\n",
        "svm_clf = SVC(kernel='linear', C=1.0)\n",
        "svm_clf.fit(x_train_tfidf, y_train)\n",
        "\n",
        "# ----------------------------\n",
        "# 5️⃣ Evaluate on Test Set\n",
        "# ----------------------------\n",
        "y_pred = svm_clf.predict(x_test_tfidf)\n",
        "accuracy = accuracy_score(y_test, y_pred)\n",
        "print(f\"Test accuracy: {accuracy * 100:.2f}%\")\n",
        "\n",
        "# ----------------------------\n",
        "# 6️⃣ Predict a single review\n",
        "# ----------------------------\n",
        "def predict_review(review_num):\n",
        "    review_text = x_test_text[review_num]\n",
        "    review_vec = vectorizer.transform([review_text])\n",
        "    pred = svm_clf.predict(review_vec)[0]\n",
        "    print(\"Predicted:\", \"Positive Review\" if pred == 1 else \"Negative Review\")\n",
        "    print(\"Actual:\", \"Positive\" if y_test[review_num] == 1 else \"Negative\")\n",
        "\n",
        "# Example usage\n",
        "predict_review(2)"
      ],
      "metadata": {
        "id": "UamG8qtPIsuI"
      },
      "execution_count": null,
      "outputs": []
    }
  ],
  "metadata": {
    "colab": {
      "name": "NERTraining.ipynb",
      "provenance": []
    },
    "kernelspec": {
      "display_name": "Python 3",
      "language": "python",
      "name": "python3"
    },
    "language_info": {
      "codemirror_mode": {
        "name": "ipython",
        "version": 3
      },
      "file_extension": ".py",
      "mimetype": "text/x-python",
      "name": "python",
      "nbconvert_exporter": "python",
      "pygments_lexer": "ipython3",
      "version": "3.7.4"
    }
  },
  "nbformat": 4,
  "nbformat_minor": 0
}